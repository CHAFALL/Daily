{
 "cells": [
  {
   "cell_type": "markdown",
   "id": "13970a60-0b20-4912-b491-cd892d727f21",
   "metadata": {},
   "source": [
    "## `y` : 다시 코드모드로 변경\n",
    "## `m` : 쉘 하나가 마크다운 모드로 변경\n",
    "## `a` : 커서 기준 위에 쉘 하나 추가\n",
    "## `b` : 커서 기준 아래에 쉘 하나 추가\n",
    "## `dd` : 쉘 삭제\n",
    "## `shift + enter` : 실행 후 커서를 아래로 이동\n",
    "## `ctrl+ enter` : 실행 후 커서를 제자리에"
   ]
  },
  {
   "cell_type": "code",
   "execution_count": 1,
   "id": "bada5c14-2059-4152-8541-28742302acf4",
   "metadata": {},
   "outputs": [],
   "source": [
    "API_key = '37de9cd193eef246c0a3ab55ad501291'"
   ]
  },
  {
   "cell_type": "code",
   "execution_count": 6,
   "id": "80bac232-4040-4cf2-8af4-54c1f1307d4a",
   "metadata": {},
   "outputs": [],
   "source": [
    "lat = 37.56\n",
    "lon = 126.97\n",
    "url = f'https://api.openweathermap.org/data/2.5/weather?lat={lat}&lon={lon}&appid={API_key}'"
   ]
  },
  {
   "cell_type": "code",
   "execution_count": 7,
   "id": "43598dfb-e40c-40d9-af16-b6de5dcda10e",
   "metadata": {},
   "outputs": [
    {
     "data": {
      "text/plain": [
       "{'coord': {'lon': 126.97, 'lat': 37.56},\n",
       " 'weather': [{'id': 800,\n",
       "   'main': 'Clear',\n",
       "   'description': 'clear sky',\n",
       "   'icon': '01n'}],\n",
       " 'base': 'stations',\n",
       " 'main': {'temp': 302.43,\n",
       "  'feels_like': 306.1,\n",
       "  'temp_min': 297.96,\n",
       "  'temp_max': 303.05,\n",
       "  'pressure': 1012,\n",
       "  'humidity': 68},\n",
       " 'visibility': 10000,\n",
       " 'wind': {'speed': 3.09, 'deg': 290},\n",
       " 'clouds': {'all': 0},\n",
       " 'dt': 1689938747,\n",
       " 'sys': {'type': 1,\n",
       "  'id': 8105,\n",
       "  'country': 'KR',\n",
       "  'sunrise': 1689884785,\n",
       "  'sunset': 1689936611},\n",
       " 'timezone': 32400,\n",
       " 'id': 1835848,\n",
       " 'name': 'Seoul',\n",
       " 'cod': 200}"
      ]
     },
     "execution_count": 7,
     "metadata": {},
     "output_type": "execute_result"
    }
   ],
   "source": [
    "# API 요청 보내기\n",
    "import requests\n",
    "response = requests.get(url).json()\n",
    "response"
   ]
  },
  {
   "cell_type": "code",
   "execution_count": 8,
   "id": "39c549fa-f645-4e27-bd42-075aeeb233e6",
   "metadata": {},
   "outputs": [],
   "source": [
    "city_name = 'gumi'\n",
    "url = f'https://api.openweathermap.org/data/2.5/weather?q={city_name}&appid={API_key}'"
   ]
  },
  {
   "cell_type": "code",
   "execution_count": 9,
   "id": "35853097-e91d-43b0-b02d-5482d0826c4d",
   "metadata": {},
   "outputs": [
    {
     "data": {
      "text/plain": [
       "{'coord': {'lon': 128.336, 'lat': 36.1136},\n",
       " 'weather': [{'id': 802,\n",
       "   'main': 'Clouds',\n",
       "   'description': 'scattered clouds',\n",
       "   'icon': '03n'}],\n",
       " 'base': 'stations',\n",
       " 'main': {'temp': 300.9,\n",
       "  'feels_like': 304.91,\n",
       "  'temp_min': 299.97,\n",
       "  'temp_max': 300.9,\n",
       "  'pressure': 1013,\n",
       "  'humidity': 82,\n",
       "  'sea_level': 1013,\n",
       "  'grnd_level': 1006},\n",
       " 'visibility': 10000,\n",
       " 'wind': {'speed': 1.94, 'deg': 135, 'gust': 3.02},\n",
       " 'clouds': {'all': 46},\n",
       " 'dt': 1689938890,\n",
       " 'sys': {'type': 1,\n",
       "  'id': 5506,\n",
       "  'country': 'KR',\n",
       "  'sunrise': 1689884676,\n",
       "  'sunset': 1689936064},\n",
       " 'timezone': 32400,\n",
       " 'id': 1842225,\n",
       " 'name': 'Gumi',\n",
       " 'cod': 200}"
      ]
     },
     "execution_count": 9,
     "metadata": {},
     "output_type": "execute_result"
    }
   ],
   "source": [
    "import requests\n",
    "response = requests.get(url).json()\n",
    "response"
   ]
  },
  {
   "cell_type": "code",
   "execution_count": 15,
   "id": "ad0fda14-4a3b-4e8e-99f6-214caffb7366",
   "metadata": {},
   "outputs": [
    {
     "data": {
      "text/plain": [
       "27.75"
      ]
     },
     "execution_count": 15,
     "metadata": {},
     "output_type": "execute_result"
    }
   ],
   "source": [
    "temp = response['main']['temp'] #위에것에서 온도만 출력하기\n",
    "# 섭씨 온도\n",
    "temp-=273.15\n",
    "temp\n",
    "# 딕셔너리 안에 리스트가 있는 것이 있음을 주의"
   ]
  },
  {
   "cell_type": "code",
   "execution_count": null,
   "id": "5950dacf-f3e0-4409-8224-cb50a5a1d79c",
   "metadata": {},
   "outputs": [],
   "source": []
  }
 ],
 "metadata": {
  "kernelspec": {
   "display_name": "Python 3 (ipykernel)",
   "language": "python",
   "name": "python3"
  },
  "language_info": {
   "codemirror_mode": {
    "name": "ipython",
    "version": 3
   },
   "file_extension": ".py",
   "mimetype": "text/x-python",
   "name": "python",
   "nbconvert_exporter": "python",
   "pygments_lexer": "ipython3",
   "version": "3.11.4"
  }
 },
 "nbformat": 4,
 "nbformat_minor": 5
}
